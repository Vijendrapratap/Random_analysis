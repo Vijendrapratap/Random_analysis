{
 "cells": [
  {
   "cell_type": "code",
   "execution_count": 1,
   "metadata": {},
   "outputs": [
    {
     "name": "stdout",
     "output_type": "stream",
     "text": [
      "Automatically created module for IPython interactive environment\n"
     ]
    }
   ],
   "source": [
    "import pandas as pd\n",
    "import numpy as np\n",
    "from time import time\n",
    "from datetime import datetime\n",
    "# import pymysql\n",
    "import pandas.io.sql as psql\n",
    "import sqlalchemy\n",
    "from datetime import date\n",
    "import json\n",
    "import math\n",
    "from datetime import timedelta\n",
    "import matplotlib.pyplot as plt\n",
    "import matplotlib\n",
    "import numpy as np\n",
    "from matplotlib import colors\n",
    "from matplotlib.ticker import PercentFormatter\n",
    "\n",
    "# Fixing random state for reproducibility\n",
    "np.random.seed(19680801)\n",
    "matplotlib.rcParams['figure.figsize'] = [30, 30]\n",
    "\n",
    "print(__doc__)"
   ]
  },
  {
   "cell_type": "code",
   "execution_count": 2,
   "metadata": {},
   "outputs": [],
   "source": [
    "df = pd.read_csv(\"vip_formated_data.csv\", index_col=None)"
   ]
  },
  {
   "cell_type": "markdown",
   "metadata": {},
   "source": [
    "### Sample from Data Frame"
   ]
  },
  {
   "cell_type": "code",
   "execution_count": 3,
   "metadata": {
    "scrolled": true
   },
   "outputs": [
    {
     "data": {
      "text/html": [
       "<div>\n",
       "<style scoped>\n",
       "    .dataframe tbody tr th:only-of-type {\n",
       "        vertical-align: middle;\n",
       "    }\n",
       "\n",
       "    .dataframe tbody tr th {\n",
       "        vertical-align: top;\n",
       "    }\n",
       "\n",
       "    .dataframe thead th {\n",
       "        text-align: right;\n",
       "    }\n",
       "</style>\n",
       "<table border=\"1\" class=\"dataframe\">\n",
       "  <thead>\n",
       "    <tr style=\"text-align: right;\">\n",
       "      <th></th>\n",
       "      <th>merchant_id</th>\n",
       "      <th>user_id</th>\n",
       "      <th>amount_spent</th>\n",
       "      <th>visits</th>\n",
       "    </tr>\n",
       "  </thead>\n",
       "  <tbody>\n",
       "    <tr>\n",
       "      <th>0</th>\n",
       "      <td>1559</td>\n",
       "      <td>149057</td>\n",
       "      <td>10260</td>\n",
       "      <td>23.0</td>\n",
       "    </tr>\n",
       "    <tr>\n",
       "      <th>1</th>\n",
       "      <td>1559</td>\n",
       "      <td>560560</td>\n",
       "      <td>10147</td>\n",
       "      <td>22.0</td>\n",
       "    </tr>\n",
       "    <tr>\n",
       "      <th>2</th>\n",
       "      <td>1559</td>\n",
       "      <td>356060</td>\n",
       "      <td>10157</td>\n",
       "      <td>55.0</td>\n",
       "    </tr>\n",
       "    <tr>\n",
       "      <th>3</th>\n",
       "      <td>1559</td>\n",
       "      <td>85626</td>\n",
       "      <td>10204</td>\n",
       "      <td>33.0</td>\n",
       "    </tr>\n",
       "    <tr>\n",
       "      <th>4</th>\n",
       "      <td>1559</td>\n",
       "      <td>564801</td>\n",
       "      <td>10055</td>\n",
       "      <td>30.0</td>\n",
       "    </tr>\n",
       "  </tbody>\n",
       "</table>\n",
       "</div>"
      ],
      "text/plain": [
       "   merchant_id  user_id  amount_spent  visits\n",
       "0         1559   149057         10260    23.0\n",
       "1         1559   560560         10147    22.0\n",
       "2         1559   356060         10157    55.0\n",
       "3         1559    85626         10204    33.0\n",
       "4         1559   564801         10055    30.0"
      ]
     },
     "execution_count": 3,
     "metadata": {},
     "output_type": "execute_result"
    }
   ],
   "source": [
    "df.head()"
   ]
  },
  {
   "cell_type": "markdown",
   "metadata": {},
   "source": [
    "## Merchant Analysis"
   ]
  },
  {
   "cell_type": "markdown",
   "metadata": {},
   "source": [
    "### Basic stats for merchants\n",
    "\n",
    "1. Average number of VIP customers per merchant\n",
    "2. Max number of VIP customers in any merchant\n",
    "3. Min number of VIP customers in any merchants\n",
    "4. Median number of VIP customers"
   ]
  },
  {
   "cell_type": "code",
   "execution_count": 4,
   "metadata": {},
   "outputs": [
    {
     "data": {
      "text/plain": [
       "403"
      ]
     },
     "execution_count": 4,
     "metadata": {},
     "output_type": "execute_result"
    }
   ],
   "source": [
    "len(df.merchant_id.unique())"
   ]
  },
  {
   "cell_type": "code",
   "execution_count": 5,
   "metadata": {},
   "outputs": [
    {
     "name": "stdout",
     "output_type": "stream",
     "text": [
      "21.337468982630273\n",
      "709\n",
      "1\n",
      "4.0\n"
     ]
    }
   ],
   "source": [
    "print(df.merchant_id.value_counts().mean())\n",
    "print(df.merchant_id.value_counts().max())\n",
    "print(df.merchant_id.value_counts().min())\n",
    "print(df.merchant_id.value_counts().median())"
   ]
  },
  {
   "cell_type": "markdown",
   "metadata": {},
   "source": [
    "### Histogram of Number of merchants vs. Number of VIP customers at each merchant"
   ]
  },
  {
   "cell_type": "code",
   "execution_count": 6,
   "metadata": {
    "scrolled": false
   },
   "outputs": [
    {
     "data": {
      "image/png": "[encoded data removed]",
      "text/plain": [
       "<Figure size 432x288 with 2 Axes>"
      ]
     },
     "metadata": {
      "needs_background": "light"
     },
     "output_type": "display_data"
    }
   ],
   "source": [
    "x = df.merchant_id.value_counts()\n",
    "y = df.merchant_id.value_counts().value_counts()\n",
    "n_bins = 200\n",
    "\n",
    "fig, axs = plt.subplots(2, 1)\n",
    "\n",
    "# N is the count in each bin, bins is the lower-limit of the bin\n",
    "N, bins, patches = axs[0].hist(x, bins=n_bins)\n",
    "\n",
    "# We'll color code by height, but you could use any scalar\n",
    "fracs = N / N.max()\n",
    "\n",
    "# we need to normalize the data to 0..1 for the full range of the colormap\n",
    "norm = colors.Normalize(fracs.min(), fracs.max())\n",
    "\n",
    "# Now, we'll loop through our objects and set the color of each accordingly\n",
    "for thisfrac, thispatch in zip(fracs, patches):\n",
    "    color = plt.cm.viridis(norm(thisfrac))\n",
    "    thispatch.set_facecolor(color)\n",
    "\n",
    "# We can also normalize our inputs by the total number of counts\n",
    "axs[1].hist(x, bins=n_bins, density=True)\n",
    "\n",
    "# Now we format the y-axis to display percentage\n",
    "axs[1].yaxis.set_major_formatter(PercentFormatter(xmax=1))"
   ]
  },
  {
   "cell_type": "code",
   "execution_count": 7,
   "metadata": {},
   "outputs": [],
   "source": [
    "bins = [1,3,5,10,50,100,df.merchant_id.value_counts().max()]\n",
    "count_list_merch = df.merchant_id.value_counts().index.tolist()\n",
    "count_list_count = df.merchant_id.value_counts()"
   ]
  },
  {
   "cell_type": "code",
   "execution_count": 8,
   "metadata": {},
   "outputs": [],
   "source": [
    "for i, count in enumerate(count_list_count):\n",
    "    if count >= 10 and count<50:\n",
    "        count_list_count.loc[count_list_merch[i]] = 30\n",
    "    if count>=50 and count<100:\n",
    "        count_list_count.loc[count_list_merch[i]] = 75\n",
    "    if count >= 100 and count<200:\n",
    "        count_list_count.loc[count_list_merch[i]] = 150\n",
    "    if count >=200 and count<500:\n",
    "        count_list_count.loc[count_list_merch[i]] = 350\n",
    "    if count >= 500:\n",
    "        count_list_count.loc[count_list_merch[i]] = 500"
   ]
  },
  {
   "cell_type": "code",
   "execution_count": 9,
   "metadata": {
    "scrolled": true
   },
   "outputs": [
    {
     "data": {
      "text/plain": [
       "1      93\n",
       "30     78\n",
       "2      58\n",
       "3      42\n",
       "4      25\n",
       "75     22\n",
       "5      19\n",
       "7      15\n",
       "6      14\n",
       "150    11\n",
       "9      11\n",
       "8       9\n",
       "350     4\n",
       "500     2\n",
       "Name: merchant_id, dtype: int64"
      ]
     },
     "execution_count": 9,
     "metadata": {},
     "output_type": "execute_result"
    }
   ],
   "source": [
    "count_list_count.value_counts()"
   ]
  },
  {
   "cell_type": "code",
   "execution_count": 10,
   "metadata": {},
   "outputs": [
    {
     "data": {
      "image/png": "[encoded data removed]",
      "text/plain": [
       "<Figure size 432x288 with 2 Axes>"
      ]
     },
     "metadata": {
      "needs_background": "light"
     },
     "output_type": "display_data"
    }
   ],
   "source": [
    "x = count_list_count.value_counts().index\n",
    "y = count_list_count.value_counts()\n",
    "n_bins = 15\n",
    "\n",
    "fig, axs = plt.subplots(2, 1)\n",
    "\n",
    "# N is the count in each bin, bins is the lower-limit of the bin\n",
    "N, bins, patches = axs[0].hist(x, bins=n_bins)\n",
    "\n",
    "# We'll color code by height, but you could use any scalar\n",
    "fracs = N / N.max()\n",
    "\n",
    "# we need to normalize the data to 0..1 for the full range of the colormap\n",
    "norm = colors.Normalize(fracs.min(), fracs.max())\n",
    "\n",
    "# Now, we'll loop through our objects and set the color of each accordingly\n",
    "for thisfrac, thispatch in zip(fracs, patches):\n",
    "    color = plt.cm.viridis(norm(thisfrac))\n",
    "    thispatch.set_facecolor(color)\n",
    "\n",
    "# We can also normalize our inputs by the total number of counts\n",
    "axs[1].hist(x, bins=n_bins, density=True)\n",
    "\n",
    "# Now we format the y-axis to display percentage\n",
    "axs[1].yaxis.set_major_formatter(PercentFormatter(xmax=1))"
   ]
  },
  {
   "cell_type": "markdown",
   "metadata": {},
   "source": [
    "## Customer Analysis"
   ]
  },
  {
   "cell_type": "code",
   "execution_count": 11,
   "metadata": {},
   "outputs": [
    {
     "data": {
      "text/plain": [
       "True"
      ]
     },
     "execution_count": 11,
     "metadata": {},
     "output_type": "execute_result"
    }
   ],
   "source": [
    "len(df.user_id.value_counts()) < len(df)"
   ]
  },
  {
   "cell_type": "markdown",
   "metadata": {},
   "source": [
    "So we know that some customers are VIPs at multiple chains"
   ]
  },
  {
   "cell_type": "code",
   "execution_count": 12,
   "metadata": {},
   "outputs": [
    {
     "name": "stdout",
     "output_type": "stream",
     "text": [
      "Number of VIP customers =  8143\n"
     ]
    }
   ],
   "source": [
    "print(\"Number of VIP customers = \", len(df.user_id.unique()))"
   ]
  },
  {
   "cell_type": "code",
   "execution_count": 13,
   "metadata": {},
   "outputs": [
    {
     "name": "stdout",
     "output_type": "stream",
     "text": [
      "1.0559990175610954\n",
      "11\n",
      "1\n",
      "1.0\n"
     ]
    }
   ],
   "source": [
    "print(df.user_id.value_counts().mean())\n",
    "print(df.user_id.value_counts().max())\n",
    "print(df.user_id.value_counts().min())\n",
    "print(df.user_id.value_counts().median())"
   ]
  },
  {
   "cell_type": "markdown",
   "metadata": {},
   "source": [
    "So we can see that most customers are VIPs at only one merchant"
   ]
  },
  {
   "cell_type": "markdown",
   "metadata": {},
   "source": [
    "### Customers who are VIPs at more than 1 chain"
   ]
  },
  {
   "cell_type": "code",
   "execution_count": 14,
   "metadata": {},
   "outputs": [],
   "source": [
    "multi_vip = list()\n",
    "\n",
    "for user in df.user_id.unique().tolist():\n",
    "    temp = df[df['user_id'] == user]\n",
    "    if(len(temp)>1):\n",
    "        multi_vip.append(user)"
   ]
  },
  {
   "cell_type": "code",
   "execution_count": 15,
   "metadata": {},
   "outputs": [],
   "source": [
    "multi_vip_df = df.loc[df.user_id.isin(multi_vip)]"
   ]
  },
  {
   "cell_type": "code",
   "execution_count": 16,
   "metadata": {},
   "outputs": [
    {
     "data": {
      "text/html": [
       "<div>\n",
       "<style scoped>\n",
       "    .dataframe tbody tr th:only-of-type {\n",
       "        vertical-align: middle;\n",
       "    }\n",
       "\n",
       "    .dataframe tbody tr th {\n",
       "        vertical-align: top;\n",
       "    }\n",
       "\n",
       "    .dataframe thead th {\n",
       "        text-align: right;\n",
       "    }\n",
       "</style>\n",
       "<table border=\"1\" class=\"dataframe\">\n",
       "  <thead>\n",
       "    <tr style=\"text-align: right;\">\n",
       "      <th></th>\n",
       "      <th>merchant_id</th>\n",
       "      <th>user_id</th>\n",
       "      <th>amount_spent</th>\n",
       "      <th>visits</th>\n",
       "    </tr>\n",
       "  </thead>\n",
       "  <tbody>\n",
       "    <tr>\n",
       "      <th>2</th>\n",
       "      <td>1559</td>\n",
       "      <td>356060</td>\n",
       "      <td>10157</td>\n",
       "      <td>55.0</td>\n",
       "    </tr>\n",
       "    <tr>\n",
       "      <th>4</th>\n",
       "      <td>1559</td>\n",
       "      <td>564801</td>\n",
       "      <td>10055</td>\n",
       "      <td>30.0</td>\n",
       "    </tr>\n",
       "    <tr>\n",
       "      <th>25</th>\n",
       "      <td>1442</td>\n",
       "      <td>207682</td>\n",
       "      <td>7209</td>\n",
       "      <td>14.0</td>\n",
       "    </tr>\n",
       "    <tr>\n",
       "      <th>29</th>\n",
       "      <td>102</td>\n",
       "      <td>641841</td>\n",
       "      <td>10035</td>\n",
       "      <td>29.0</td>\n",
       "    </tr>\n",
       "    <tr>\n",
       "      <th>30</th>\n",
       "      <td>102</td>\n",
       "      <td>60777</td>\n",
       "      <td>10000</td>\n",
       "      <td>30.0</td>\n",
       "    </tr>\n",
       "  </tbody>\n",
       "</table>\n",
       "</div>"
      ],
      "text/plain": [
       "    merchant_id  user_id  amount_spent  visits\n",
       "2          1559   356060         10157    55.0\n",
       "4          1559   564801         10055    30.0\n",
       "25         1442   207682          7209    14.0\n",
       "29          102   641841         10035    29.0\n",
       "30          102    60777         10000    30.0"
      ]
     },
     "execution_count": 16,
     "metadata": {},
     "output_type": "execute_result"
    }
   ],
   "source": [
    "multi_vip_df.head()"
   ]
  },
  {
   "cell_type": "code",
   "execution_count": 17,
   "metadata": {},
   "outputs": [
    {
     "data": {
      "image/png": "[encoded data removed]",
      "text/plain": [
       "<Figure size 432x288 with 2 Axes>"
      ]
     },
     "metadata": {
      "needs_background": "light"
     },
     "output_type": "display_data"
    }
   ],
   "source": [
    "x = multi_vip_df.user_id.value_counts()\n",
    "y = multi_vip_df.user_id.value_counts().value_counts()\n",
    "n_bins = 11\n",
    "\n",
    "fig, axs = plt.subplots(2, 1)\n",
    "\n",
    "# N is the count in each bin, bins is the lower-limit of the bin\n",
    "N, bins, patches = axs[0].hist(x, bins=n_bins)\n",
    "\n",
    "# We'll color code by height, but you could use any scalar\n",
    "fracs = N / N.max()\n",
    "\n",
    "# we need to normalize the data to 0..1 for the full range of the colormap\n",
    "norm = colors.Normalize(fracs.min(), fracs.max())\n",
    "\n",
    "# Now, we'll loop through our objects and set the color of each accordingly\n",
    "for thisfrac, thispatch in zip(fracs, patches):\n",
    "    color = plt.cm.viridis(norm(thisfrac))\n",
    "    thispatch.set_facecolor(color)\n",
    "\n",
    "# We can also normalize our inputs by the total number of counts\n",
    "axs[1].hist(x, bins=n_bins, density=True)\n",
    "\n",
    "# Now we format the y-axis to display percentage\n",
    "axs[1].yaxis.set_major_formatter(PercentFormatter(xmax=1))"
   ]
  },
  {
   "cell_type": "markdown",
   "metadata": {},
   "source": [
    "## Visit Analysis"
   ]
  },
  {
   "cell_type": "code",
   "execution_count": 18,
   "metadata": {},
   "outputs": [
    {
     "name": "stdout",
     "output_type": "stream",
     "text": [
      "11.89308814204185\n",
      "220.0\n",
      "1.0\n"
     ]
    }
   ],
   "source": [
    "print(df.visits.mean())\n",
    "print(df.visits.max())\n",
    "print(df.visits.min())"
   ]
  },
  {
   "cell_type": "code",
   "execution_count": 19,
   "metadata": {},
   "outputs": [
    {
     "data": {
      "text/plain": [
       "577"
      ]
     },
     "execution_count": 19,
     "metadata": {},
     "output_type": "execute_result"
    }
   ],
   "source": [
    "len(df[df.visits == 1].user_id.unique())"
   ]
  },
  {
   "cell_type": "markdown",
   "metadata": {},
   "source": [
    "577 customers became VIPs at 584 merchants within 1 visit"
   ]
  },
  {
   "cell_type": "code",
   "execution_count": 20,
   "metadata": {},
   "outputs": [
    {
     "data": {
      "text/plain": [
       "8143"
      ]
     },
     "execution_count": 20,
     "metadata": {},
     "output_type": "execute_result"
    }
   ],
   "source": [
    "len(df.user_id.unique())"
   ]
  },
  {
   "cell_type": "markdown",
   "metadata": {},
   "source": [
    "### Top 126 customers have >=50 visits"
   ]
  },
  {
   "cell_type": "code",
   "execution_count": 21,
   "metadata": {
    "scrolled": true
   },
   "outputs": [],
   "source": [
    "visit_hlpp_candidates = df.sort_values(by='visits', ascending=False).head(126)"
   ]
  },
  {
   "cell_type": "code",
   "execution_count": 22,
   "metadata": {
    "scrolled": true
   },
   "outputs": [
    {
     "data": {
      "text/plain": [
       "124"
      ]
     },
     "execution_count": 22,
     "metadata": {},
     "output_type": "execute_result"
    }
   ],
   "source": [
    "len(visit_hlpp_candidates.user_id.unique())"
   ]
  },
  {
   "cell_type": "code",
   "execution_count": 23,
   "metadata": {},
   "outputs": [],
   "source": [
    "visit_hlpp_candidates = df.sort_values(by='visits', ascending=False).head(517)"
   ]
  },
  {
   "cell_type": "markdown",
   "metadata": {},
   "source": [
    "## Amount Analysis"
   ]
  },
  {
   "cell_type": "code",
   "execution_count": 24,
   "metadata": {},
   "outputs": [
    {
     "name": "stdout",
     "output_type": "stream",
     "text": [
      "14928.729521276597\n",
      "715625\n",
      "400\n"
     ]
    }
   ],
   "source": [
    "df = df.dropna()\n",
    "print(df.amount_spent.sum()/len(df.user_id.unique()))\n",
    "print(df.amount_spent.max())\n",
    "print(df.amount_spent.min())"
   ]
  },
  {
   "cell_type": "code",
   "execution_count": 25,
   "metadata": {
    "scrolled": true
   },
   "outputs": [
    {
     "data": {
      "text/html": [
       "<div>\n",
       "<style scoped>\n",
       "    .dataframe tbody tr th:only-of-type {\n",
       "        vertical-align: middle;\n",
       "    }\n",
       "\n",
       "    .dataframe tbody tr th {\n",
       "        vertical-align: top;\n",
       "    }\n",
       "\n",
       "    .dataframe thead th {\n",
       "        text-align: right;\n",
       "    }\n",
       "</style>\n",
       "<table border=\"1\" class=\"dataframe\">\n",
       "  <thead>\n",
       "    <tr style=\"text-align: right;\">\n",
       "      <th></th>\n",
       "      <th>merchant_id</th>\n",
       "      <th>user_id</th>\n",
       "      <th>amount_spent</th>\n",
       "      <th>visits</th>\n",
       "    </tr>\n",
       "  </thead>\n",
       "  <tbody>\n",
       "  </tbody>\n",
       "</table>\n",
       "</div>"
      ],
      "text/plain": [
       "Empty DataFrame\n",
       "Columns: [merchant_id, user_id, amount_spent, visits]\n",
       "Index: []"
      ]
     },
     "execution_count": 25,
     "metadata": {},
     "output_type": "execute_result"
    }
   ],
   "source": [
    "df[df.amount_spent == 10]"
   ]
  },
  {
   "cell_type": "markdown",
   "metadata": {},
   "source": [
    "# This is super weird"
   ]
  },
  {
   "cell_type": "code",
   "execution_count": 26,
   "metadata": {
    "scrolled": true
   },
   "outputs": [],
   "source": [
    "amount_hlpp_canditates = df.sort_values(by=['amount_spent'], ascending=False).head(126)"
   ]
  },
  {
   "cell_type": "code",
   "execution_count": 27,
   "metadata": {
    "scrolled": true
   },
   "outputs": [
    {
     "data": {
      "text/html": [
       "<div>\n",
       "<style scoped>\n",
       "    .dataframe tbody tr th:only-of-type {\n",
       "        vertical-align: middle;\n",
       "    }\n",
       "\n",
       "    .dataframe tbody tr th {\n",
       "        vertical-align: top;\n",
       "    }\n",
       "\n",
       "    .dataframe thead th {\n",
       "        text-align: right;\n",
       "    }\n",
       "</style>\n",
       "<table border=\"1\" class=\"dataframe\">\n",
       "  <thead>\n",
       "    <tr style=\"text-align: right;\">\n",
       "      <th></th>\n",
       "      <th>merchant_id</th>\n",
       "      <th>user_id</th>\n",
       "      <th>amount_spent</th>\n",
       "      <th>visits</th>\n",
       "    </tr>\n",
       "  </thead>\n",
       "  <tbody>\n",
       "    <tr>\n",
       "      <th>6678</th>\n",
       "      <td>1266</td>\n",
       "      <td>506009</td>\n",
       "      <td>715625</td>\n",
       "      <td>3.0</td>\n",
       "    </tr>\n",
       "    <tr>\n",
       "      <th>6667</th>\n",
       "      <td>1266</td>\n",
       "      <td>560671</td>\n",
       "      <td>602247</td>\n",
       "      <td>4.0</td>\n",
       "    </tr>\n",
       "    <tr>\n",
       "      <th>6658</th>\n",
       "      <td>1266</td>\n",
       "      <td>571278</td>\n",
       "      <td>594750</td>\n",
       "      <td>11.0</td>\n",
       "    </tr>\n",
       "    <tr>\n",
       "      <th>6672</th>\n",
       "      <td>1266</td>\n",
       "      <td>412933</td>\n",
       "      <td>580320</td>\n",
       "      <td>6.0</td>\n",
       "    </tr>\n",
       "    <tr>\n",
       "      <th>6668</th>\n",
       "      <td>1266</td>\n",
       "      <td>253917</td>\n",
       "      <td>579775</td>\n",
       "      <td>20.0</td>\n",
       "    </tr>\n",
       "  </tbody>\n",
       "</table>\n",
       "</div>"
      ],
      "text/plain": [
       "      merchant_id  user_id  amount_spent  visits\n",
       "6678         1266   506009        715625     3.0\n",
       "6667         1266   560671        602247     4.0\n",
       "6658         1266   571278        594750    11.0\n",
       "6672         1266   412933        580320     6.0\n",
       "6668         1266   253917        579775    20.0"
      ]
     },
     "execution_count": 27,
     "metadata": {},
     "output_type": "execute_result"
    }
   ],
   "source": [
    "df.sort_values(by=['amount_spent'], ascending=False).head(5)"
   ]
  },
  {
   "cell_type": "markdown",
   "metadata": {},
   "source": [
    "### Clearly there is a big discrepancy between amount and visits, so I am finding intersecting customers"
   ]
  },
  {
   "cell_type": "code",
   "execution_count": 28,
   "metadata": {},
   "outputs": [],
   "source": [
    "intersection_hlpp_candidates = pd.merge(visit_hlpp_candidates, amount_hlpp_canditates, how='inner', on=['user_id'])"
   ]
  },
  {
   "cell_type": "code",
   "execution_count": 29,
   "metadata": {},
   "outputs": [
    {
     "data": {
      "text/html": [
       "<div>\n",
       "<style scoped>\n",
       "    .dataframe tbody tr th:only-of-type {\n",
       "        vertical-align: middle;\n",
       "    }\n",
       "\n",
       "    .dataframe tbody tr th {\n",
       "        vertical-align: top;\n",
       "    }\n",
       "\n",
       "    .dataframe thead th {\n",
       "        text-align: right;\n",
       "    }\n",
       "</style>\n",
       "<table border=\"1\" class=\"dataframe\">\n",
       "  <thead>\n",
       "    <tr style=\"text-align: right;\">\n",
       "      <th></th>\n",
       "      <th>merchant_id_x</th>\n",
       "      <th>user_id</th>\n",
       "      <th>amount_spent_x</th>\n",
       "      <th>visits_x</th>\n",
       "      <th>merchant_id_y</th>\n",
       "      <th>amount_spent_y</th>\n",
       "      <th>visits_y</th>\n",
       "    </tr>\n",
       "  </thead>\n",
       "  <tbody>\n",
       "    <tr>\n",
       "      <th>0</th>\n",
       "      <td>1266</td>\n",
       "      <td>425996</td>\n",
       "      <td>521405</td>\n",
       "      <td>42.0</td>\n",
       "      <td>1266</td>\n",
       "      <td>521405</td>\n",
       "      <td>42.0</td>\n",
       "    </tr>\n",
       "    <tr>\n",
       "      <th>1</th>\n",
       "      <td>259</td>\n",
       "      <td>43612</td>\n",
       "      <td>509771</td>\n",
       "      <td>34.0</td>\n",
       "      <td>259</td>\n",
       "      <td>509771</td>\n",
       "      <td>34.0</td>\n",
       "    </tr>\n",
       "    <tr>\n",
       "      <th>2</th>\n",
       "      <td>835</td>\n",
       "      <td>106885</td>\n",
       "      <td>50900</td>\n",
       "      <td>34.0</td>\n",
       "      <td>835</td>\n",
       "      <td>50900</td>\n",
       "      <td>34.0</td>\n",
       "    </tr>\n",
       "  </tbody>\n",
       "</table>\n",
       "</div>"
      ],
      "text/plain": [
       "   merchant_id_x  user_id  amount_spent_x  visits_x  merchant_id_y  \\\n",
       "0           1266   425996          521405      42.0           1266   \n",
       "1            259    43612          509771      34.0            259   \n",
       "2            835   106885           50900      34.0            835   \n",
       "\n",
       "   amount_spent_y  visits_y  \n",
       "0          521405      42.0  \n",
       "1          509771      34.0  \n",
       "2           50900      34.0  "
      ]
     },
     "execution_count": 29,
     "metadata": {},
     "output_type": "execute_result"
    }
   ],
   "source": [
    "intersection_hlpp_candidates"
   ]
  },
  {
   "cell_type": "code",
   "execution_count": null,
   "metadata": {},
   "outputs": [],
   "source": []
  }
 ],
 "metadata": {
  "kernelspec": {
   "display_name": "Python 3",
   "language": "python",
   "name": "python3"
  },
  "language_info": {
   "codemirror_mode": {
    "name": "ipython",
    "version": 3
   },
   "file_extension": ".py",
   "mimetype": "text/x-python",
   "name": "python",
   "nbconvert_exporter": "python",
   "pygments_lexer": "ipython3",
   "version": "3.7.3"
  }
 },
 "nbformat": 4,
 "nbformat_minor": 2
}
